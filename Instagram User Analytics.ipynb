{
 "cells": [
  {
   "cell_type": "markdown",
   "id": "e04d4d4b",
   "metadata": {},
   "source": [
    "# Instagram User Analytics\n",
    "## Narpat Kumar"
   ]
  },
  {
   "cell_type": "markdown",
   "id": "b672cbf1",
   "metadata": {},
   "source": [
    "## Project Description\n",
    "1. The Project is about helping the Marketing Team of Instagram to launch some campaigns and their Investors, who wants to know if Instagram is performing well and is not becoming redundant like Facebook. \n",
    "2. The Marketing team wants to know about their **Loyal (oldest) users**, **Inactive users**, **Host contest**, know about the popular **Hashtags** their users are using, and launch ads based on days when the users are registering. \n",
    "3. The Investors want to know about the **User Engagement**, and about **Bots and Fake accounts** on Instagram.<br><br>\n",
    "To meet the objectives aforementioned and help the Marketing Team and the Investors, I integrate the Jupyter Notebook with MySQL. By integrating both the environments, I can run different queries and get results. I hope the results I get are same as expected by the Team and Investors, and they help them increase the success rate and improve the overall experience of their App. \n",
    "\n",
    "## Approach\n",
    "A Database with the name '**ig_clone**' is created following the steps mentioned in [Database](https://docs.google.com/document/d/1-WhNRX1iYJIz7e5l28DMPWgsPklpE_w6/edit). After the database is created the next step is to **integrate the Jupyter Notebook and MySQL** environments. This is implemented using the '**mysql.connector**' module. The '**connect**' function of the module lets us establish a connection with the Database. After the connection is established the '**cursor()**' function is used to create a **cursor**, and this cursor can be used to execute different SQL queries using the '**execute()**' method, which takes in one parameter, the **query** that is to be executed. Different SQL queries are executed corresponding to the different requirements. The results of the queries can be transported into a Pandas DataFrame, which can be used for further analysis, including visualization.\n",
    "\n",
    "## 'ig_clone' Database\n",
    "The **ig_clone** database contains the following tables with corresponding columns:\n",
    "1. **users** - gives information about the users registered.\n",
    "    - **id** - the user id\n",
    "    - **username** - the username of the user\n",
    "    - **created_at** - the date and time when the user registered on Instagram\n",
    "2. **photos** - gives information about the photos uploaded.\n",
    "\t- **id** - the photo id\n",
    "    - **image_url** - the images' url\n",
    "    - **user_id** - the id of the user who uploaded the image\n",
    "    - **created_dat** - the date and time when the photo was uploaded\n",
    "3. **tags** - gives information about the different hashtags used on the photos.\n",
    "\t- **id** - tag id\n",
    "    - **tag_name** - hashtag name\n",
    "    - **created_at** - the date and time of tag creation\n",
    "4. **photo_tags** - gives information of the tags used on different photos\n",
    "\t- **photo_id** - the id of the photo with tags\n",
    "    - **tag_id** - the id of the hashtag used\n",
    "5. **likes** - gives information about users who have liked a particular photo\n",
    "\t- **user_id** - id of the user who have liked the photo\n",
    "    - **photo_id** - id of the photo the user have liked\n",
    "    - **created_at** - the date and time of liking the photo\n",
    "6. **comments** - gives information about the comments received on a photo \n",
    "\t- **id** - comment id\n",
    "    - **comment_text** - the comment posted\n",
    "    - **user_id** - id of the user who has posted the comment\n",
    "    - **photo_id** - id of the photo with the comment\n",
    "    - **created_at** - the date and time of posting the comment\n",
    "7. **follows** - gives information about the followers and followings\n",
    "\t- **follower_id** - id of the follower\n",
    "    - **followee_id** - id of the followee\n",
    "    - **created_at** - the date and time when the followee was followed.\n",
    "\t\n",
    "\n",
    "## Tech-Stack Used\n",
    "- MySQL -  8.0.31\n",
    "- Jupyter Notebook - 6.4.8"
   ]
  },
  {
   "cell_type": "markdown",
   "id": "644747c2",
   "metadata": {},
   "source": [
    "##### importing required libraries"
   ]
  },
  {
   "cell_type": "code",
   "execution_count": 1,
   "id": "daa03e08",
   "metadata": {},
   "outputs": [],
   "source": [
    "# importing the required libraries\n",
    "import mysql.connector\n",
    "from mysql.connector import Error\n",
    "import pandas as pd\n",
    "import seaborn as sns\n",
    "import matplotlib.pyplot as plt"
   ]
  },
  {
   "cell_type": "markdown",
   "id": "f587eeba",
   "metadata": {},
   "source": [
    "##### establishing Database connection"
   ]
  },
  {
   "cell_type": "code",
   "execution_count": 2,
   "id": "3f6962bf",
   "metadata": {},
   "outputs": [
    {
     "name": "stdout",
     "output_type": "stream",
     "text": [
      "MySQL Database Connection Successful.\n"
     ]
    }
   ],
   "source": [
    "# MySQL and database parameters\n",
    "host_name = \"localhost\"\n",
    "user_name = \"root\"\n",
    "user_pass = \"Narpat_PASSWORD\"\n",
    "db_name = \"ig_clone\"\n",
    "\n",
    "# connecting to the database\n",
    "try:\n",
    "    connection = mysql.connector.connect(\n",
    "        host = host_name,\n",
    "        user = user_name,\n",
    "        passwd = user_pass,\n",
    "        database = db_name\n",
    "    )\n",
    "    print(\"MySQL Database Connection Successful.\")\n",
    "except Error as err:\n",
    "    print(f\"Error: '{err}'\")"
   ]
  },
  {
   "cell_type": "markdown",
   "id": "de33a2ab",
   "metadata": {},
   "source": [
    "We can see a Successful Connection has been established. This **connection** can be used for running SQL queries according to different requirements."
   ]
  },
  {
   "cell_type": "markdown",
   "id": "17553afc",
   "metadata": {},
   "source": [
    "##### creating a user-defined function to execute queries"
   ]
  },
  {
   "cell_type": "code",
   "execution_count": 3,
   "id": "cf2d9533",
   "metadata": {},
   "outputs": [],
   "source": [
    "# function to execute a query\n",
    "def execute_query(connection, query):\n",
    "    cursor = connection.cursor()\n",
    "    result = None\n",
    "    try:\n",
    "        cursor.execute(query)\n",
    "        result = cursor.fetchall()\n",
    "        return result\n",
    "    except Error as err:\n",
    "        print(f\"Error: '{err}'\")"
   ]
  },
  {
   "cell_type": "markdown",
   "id": "ad6310be",
   "metadata": {},
   "source": [
    "The '**execute_query()**' function takes in two parameters, the **connection** and the **query** that is to be executed. The results of the query are fetched using the '**fetchall()**' method and stored in a variable **result**, which is returned upon successful execution of the query."
   ]
  },
  {
   "cell_type": "markdown",
   "id": "16bbfe57",
   "metadata": {},
   "source": [
    "## User Analysis"
   ]
  },
  {
   "cell_type": "markdown",
   "id": "bda163a9",
   "metadata": {},
   "source": [
    "### Marketing\n",
    "The marketing team wants help with the following:\n",
    "- Rewarding the most **loyal users** - They want to know about their five oldest users.\n",
    "- Remind **inactive users** - They want to know about those users who haven't posted anything yet on their platform.\n",
    "- Declare **contest winner** - They want to host a contest, and the user who gets the most likes on a single photo wins the contest.\n",
    "- **Hashtag** reasearching - Know about the five most used hashtags.\n",
    "- Launch **ad campaigns** - To know which day would be the best day to launch ads."
   ]
  },
  {
   "cell_type": "markdown",
   "id": "3312893a",
   "metadata": {},
   "source": [
    "#### 1. Rewarding the most Loyal Users\n",
    "For rewarding the most loyal users, the team wants to know about the five oldest users on their platform."
   ]
  },
  {
   "cell_type": "code",
   "execution_count": 4,
   "id": "4a7ea513",
   "metadata": {},
   "outputs": [],
   "source": [
    "# query for finding the loyal users\n",
    "loyal = \"\"\"select * from users\n",
    "order by created_at\n",
    "limit 5;\"\"\""
   ]
  },
  {
   "cell_type": "code",
   "execution_count": 5,
   "id": "6c72dc67",
   "metadata": {},
   "outputs": [],
   "source": [
    "# result of the query\n",
    "results = execute_query(connection, loyal)\n",
    "\n",
    "# empty list to store the results\n",
    "query_results = []\n",
    "# storing the results\n",
    "for result in results:\n",
    "    result = list(result)\n",
    "    query_results.append(result)\n",
    "\n",
    "# columns for the dataframe\n",
    "columns = ['id', 'username', 'created_at']\n",
    "\n",
    "# dataframe containing the results\n",
    "loyal_users = pd.DataFrame(query_results, columns = columns)"
   ]
  },
  {
   "cell_type": "code",
   "execution_count": 6,
   "id": "e63777c7",
   "metadata": {},
   "outputs": [
    {
     "data": {
      "text/html": [
       "<div>\n",
       "<style scoped>\n",
       "    .dataframe tbody tr th:only-of-type {\n",
       "        vertical-align: middle;\n",
       "    }\n",
       "\n",
       "    .dataframe tbody tr th {\n",
       "        vertical-align: top;\n",
       "    }\n",
       "\n",
       "    .dataframe thead th {\n",
       "        text-align: right;\n",
       "    }\n",
       "</style>\n",
       "<table border=\"1\" class=\"dataframe\">\n",
       "  <thead>\n",
       "    <tr style=\"text-align: right;\">\n",
       "      <th></th>\n",
       "      <th>id</th>\n",
       "      <th>username</th>\n",
       "      <th>created_at</th>\n",
       "    </tr>\n",
       "  </thead>\n",
       "  <tbody>\n",
       "    <tr>\n",
       "      <th>0</th>\n",
       "      <td>80</td>\n",
       "      <td>Darby_Herzog</td>\n",
       "      <td>2016-05-06 00:14:21</td>\n",
       "    </tr>\n",
       "    <tr>\n",
       "      <th>1</th>\n",
       "      <td>67</td>\n",
       "      <td>Emilio_Bernier52</td>\n",
       "      <td>2016-05-06 13:04:30</td>\n",
       "    </tr>\n",
       "    <tr>\n",
       "      <th>2</th>\n",
       "      <td>63</td>\n",
       "      <td>Elenor88</td>\n",
       "      <td>2016-05-08 01:30:41</td>\n",
       "    </tr>\n",
       "    <tr>\n",
       "      <th>3</th>\n",
       "      <td>95</td>\n",
       "      <td>Nicole71</td>\n",
       "      <td>2016-05-09 17:30:22</td>\n",
       "    </tr>\n",
       "    <tr>\n",
       "      <th>4</th>\n",
       "      <td>38</td>\n",
       "      <td>Jordyn.Jacobson2</td>\n",
       "      <td>2016-05-14 07:56:26</td>\n",
       "    </tr>\n",
       "  </tbody>\n",
       "</table>\n",
       "</div>"
      ],
      "text/plain": [
       "   id          username          created_at\n",
       "0  80      Darby_Herzog 2016-05-06 00:14:21\n",
       "1  67  Emilio_Bernier52 2016-05-06 13:04:30\n",
       "2  63          Elenor88 2016-05-08 01:30:41\n",
       "3  95          Nicole71 2016-05-09 17:30:22\n",
       "4  38  Jordyn.Jacobson2 2016-05-14 07:56:26"
      ]
     },
     "execution_count": 6,
     "metadata": {},
     "output_type": "execute_result"
    }
   ],
   "source": [
    "# printing the dataframe\n",
    "loyal_users"
   ]
  },
  {
   "cell_type": "markdown",
   "id": "eb49a448",
   "metadata": {},
   "source": [
    "The successful execution of the query gives us the five oldest users on Instagram. The users (usernames) being **Darby_Herzog**, **Emilio_Bernier52**, **Elenor88**, **Nicole71**, and **Jordyn.Jacobson2**. The team can reward these users for being loyal towards their product."
   ]
  },
  {
   "cell_type": "markdown",
   "id": "dabf5c54",
   "metadata": {},
   "source": [
    "#### 2. Reminding Inactive Users\n",
    "The team wants to remind the inactive users to post their first photo on Instagram. For this they want to know about the users who haven't posted any photos yet. To know about those users, we first find those users who have posted atleast one photo. Then we compare with the total users and find the ones who haven't posted any photo."
   ]
  },
  {
   "cell_type": "code",
   "execution_count": 7,
   "id": "d55d678c",
   "metadata": {},
   "outputs": [],
   "source": [
    "# users who haven't uploaded any pics on insta\n",
    "inactive = \"\"\" select id, username from users where id not in (select distinct user_id from photos);\"\"\""
   ]
  },
  {
   "cell_type": "code",
   "execution_count": 8,
   "id": "239c30fb",
   "metadata": {},
   "outputs": [],
   "source": [
    "# result of the query\n",
    "results = execute_query(connection, inactive)\n",
    "\n",
    "# empty list for storing the result\n",
    "query_results = []\n",
    "# storing the results\n",
    "for result in results:\n",
    "    result = list(result)\n",
    "    query_results.append(result)\n",
    "\n",
    "# columns for the dataframe\n",
    "columns = ['id', 'username']\n",
    "\n",
    "# dataframe containing the results\n",
    "inactive_users = pd.DataFrame(query_results, columns = columns)"
   ]
  },
  {
   "cell_type": "code",
   "execution_count": 9,
   "id": "c7d961f5",
   "metadata": {},
   "outputs": [
    {
     "data": {
      "text/html": [
       "<div>\n",
       "<style scoped>\n",
       "    .dataframe tbody tr th:only-of-type {\n",
       "        vertical-align: middle;\n",
       "    }\n",
       "\n",
       "    .dataframe tbody tr th {\n",
       "        vertical-align: top;\n",
       "    }\n",
       "\n",
       "    .dataframe thead th {\n",
       "        text-align: right;\n",
       "    }\n",
       "</style>\n",
       "<table border=\"1\" class=\"dataframe\">\n",
       "  <thead>\n",
       "    <tr style=\"text-align: right;\">\n",
       "      <th></th>\n",
       "      <th>id</th>\n",
       "      <th>username</th>\n",
       "    </tr>\n",
       "  </thead>\n",
       "  <tbody>\n",
       "    <tr>\n",
       "      <th>0</th>\n",
       "      <td>5</td>\n",
       "      <td>Aniya_Hackett</td>\n",
       "    </tr>\n",
       "    <tr>\n",
       "      <th>1</th>\n",
       "      <td>7</td>\n",
       "      <td>Kasandra_Homenick</td>\n",
       "    </tr>\n",
       "    <tr>\n",
       "      <th>2</th>\n",
       "      <td>14</td>\n",
       "      <td>Jaclyn81</td>\n",
       "    </tr>\n",
       "    <tr>\n",
       "      <th>3</th>\n",
       "      <td>21</td>\n",
       "      <td>Rocio33</td>\n",
       "    </tr>\n",
       "    <tr>\n",
       "      <th>4</th>\n",
       "      <td>24</td>\n",
       "      <td>Maxwell.Halvorson</td>\n",
       "    </tr>\n",
       "    <tr>\n",
       "      <th>5</th>\n",
       "      <td>25</td>\n",
       "      <td>Tierra.Trantow</td>\n",
       "    </tr>\n",
       "    <tr>\n",
       "      <th>6</th>\n",
       "      <td>34</td>\n",
       "      <td>Pearl7</td>\n",
       "    </tr>\n",
       "    <tr>\n",
       "      <th>7</th>\n",
       "      <td>36</td>\n",
       "      <td>Ollie_Ledner37</td>\n",
       "    </tr>\n",
       "    <tr>\n",
       "      <th>8</th>\n",
       "      <td>41</td>\n",
       "      <td>Mckenna17</td>\n",
       "    </tr>\n",
       "    <tr>\n",
       "      <th>9</th>\n",
       "      <td>45</td>\n",
       "      <td>David.Osinski47</td>\n",
       "    </tr>\n",
       "    <tr>\n",
       "      <th>10</th>\n",
       "      <td>49</td>\n",
       "      <td>Morgan.Kassulke</td>\n",
       "    </tr>\n",
       "    <tr>\n",
       "      <th>11</th>\n",
       "      <td>53</td>\n",
       "      <td>Linnea59</td>\n",
       "    </tr>\n",
       "    <tr>\n",
       "      <th>12</th>\n",
       "      <td>54</td>\n",
       "      <td>Duane60</td>\n",
       "    </tr>\n",
       "    <tr>\n",
       "      <th>13</th>\n",
       "      <td>57</td>\n",
       "      <td>Julien_Schmidt</td>\n",
       "    </tr>\n",
       "    <tr>\n",
       "      <th>14</th>\n",
       "      <td>66</td>\n",
       "      <td>Mike.Auer39</td>\n",
       "    </tr>\n",
       "    <tr>\n",
       "      <th>15</th>\n",
       "      <td>68</td>\n",
       "      <td>Franco_Keebler64</td>\n",
       "    </tr>\n",
       "    <tr>\n",
       "      <th>16</th>\n",
       "      <td>71</td>\n",
       "      <td>Nia_Haag</td>\n",
       "    </tr>\n",
       "    <tr>\n",
       "      <th>17</th>\n",
       "      <td>74</td>\n",
       "      <td>Hulda.Macejkovic</td>\n",
       "    </tr>\n",
       "    <tr>\n",
       "      <th>18</th>\n",
       "      <td>75</td>\n",
       "      <td>Leslie67</td>\n",
       "    </tr>\n",
       "    <tr>\n",
       "      <th>19</th>\n",
       "      <td>76</td>\n",
       "      <td>Janelle.Nikolaus81</td>\n",
       "    </tr>\n",
       "    <tr>\n",
       "      <th>20</th>\n",
       "      <td>80</td>\n",
       "      <td>Darby_Herzog</td>\n",
       "    </tr>\n",
       "    <tr>\n",
       "      <th>21</th>\n",
       "      <td>81</td>\n",
       "      <td>Esther.Zulauf61</td>\n",
       "    </tr>\n",
       "    <tr>\n",
       "      <th>22</th>\n",
       "      <td>83</td>\n",
       "      <td>Bartholome.Bernhard</td>\n",
       "    </tr>\n",
       "    <tr>\n",
       "      <th>23</th>\n",
       "      <td>89</td>\n",
       "      <td>Jessyca_West</td>\n",
       "    </tr>\n",
       "    <tr>\n",
       "      <th>24</th>\n",
       "      <td>90</td>\n",
       "      <td>Esmeralda.Mraz57</td>\n",
       "    </tr>\n",
       "    <tr>\n",
       "      <th>25</th>\n",
       "      <td>91</td>\n",
       "      <td>Bethany20</td>\n",
       "    </tr>\n",
       "  </tbody>\n",
       "</table>\n",
       "</div>"
      ],
      "text/plain": [
       "    id             username\n",
       "0    5        Aniya_Hackett\n",
       "1    7    Kasandra_Homenick\n",
       "2   14             Jaclyn81\n",
       "3   21              Rocio33\n",
       "4   24    Maxwell.Halvorson\n",
       "5   25       Tierra.Trantow\n",
       "6   34               Pearl7\n",
       "7   36       Ollie_Ledner37\n",
       "8   41            Mckenna17\n",
       "9   45      David.Osinski47\n",
       "10  49      Morgan.Kassulke\n",
       "11  53             Linnea59\n",
       "12  54              Duane60\n",
       "13  57       Julien_Schmidt\n",
       "14  66          Mike.Auer39\n",
       "15  68     Franco_Keebler64\n",
       "16  71             Nia_Haag\n",
       "17  74     Hulda.Macejkovic\n",
       "18  75             Leslie67\n",
       "19  76   Janelle.Nikolaus81\n",
       "20  80         Darby_Herzog\n",
       "21  81      Esther.Zulauf61\n",
       "22  83  Bartholome.Bernhard\n",
       "23  89         Jessyca_West\n",
       "24  90     Esmeralda.Mraz57\n",
       "25  91            Bethany20"
      ]
     },
     "execution_count": 9,
     "metadata": {},
     "output_type": "execute_result"
    }
   ],
   "source": [
    "inactive_users"
   ]
  },
  {
   "cell_type": "markdown",
   "id": "92abe4a1",
   "metadata": {},
   "source": [
    "The above is the list of the users who haven't posted any photos yet on Instagram. It can be seen that one-fourth of the total users (26/100) are inactive. The team can send them promotional mails and remind them to post their first photo on Instagram. By reminding them, the team can improve the user activity and learn more about what campaigns to launch based on the type of photos uploaded."
   ]
  },
  {
   "cell_type": "markdown",
   "id": "559e6551",
   "metadata": {},
   "source": [
    "#### 3. Declaring Contest Winners\n",
    "The product team has hosted a contest on their platform and the user with the most number of likes on a single photo is to be declared the winner. For this, we first find the photo with the most number of likes. Then we find the id of the user who has uploaded that photo. Finally we display the username for the corresponding user id. "
   ]
  },
  {
   "cell_type": "code",
   "execution_count": 10,
   "id": "da254ca8",
   "metadata": {},
   "outputs": [],
   "source": [
    "# query to find the most liked photo\n",
    "five_most_liked_photo = \"\"\" select * from (select photo_id, count(*) as total\n",
    "from likes group by photo_id order by total desc limit 5) sub;\"\"\""
   ]
  },
  {
   "cell_type": "code",
   "execution_count": 11,
   "id": "967e69aa",
   "metadata": {},
   "outputs": [],
   "source": [
    "# result of the query\n",
    "results = execute_query(connection, five_most_liked_photo)\n",
    "\n",
    "# empty list for storing the result\n",
    "query_results = []\n",
    "# storing the results\n",
    "for result in results:\n",
    "    result = list(result)\n",
    "    query_results.append(result)\n",
    "\n",
    "# columns for the dataframe\n",
    "columns = ['photo_id', 'likes']\n",
    "\n",
    "# dataframe containing the results\n",
    "most_liked_photos = pd.DataFrame(query_results, columns = columns)"
   ]
  },
  {
   "cell_type": "code",
   "execution_count": 12,
   "id": "63eef974",
   "metadata": {},
   "outputs": [
    {
     "data": {
      "text/html": [
       "<div>\n",
       "<style scoped>\n",
       "    .dataframe tbody tr th:only-of-type {\n",
       "        vertical-align: middle;\n",
       "    }\n",
       "\n",
       "    .dataframe tbody tr th {\n",
       "        vertical-align: top;\n",
       "    }\n",
       "\n",
       "    .dataframe thead th {\n",
       "        text-align: right;\n",
       "    }\n",
       "</style>\n",
       "<table border=\"1\" class=\"dataframe\">\n",
       "  <thead>\n",
       "    <tr style=\"text-align: right;\">\n",
       "      <th></th>\n",
       "      <th>photo_id</th>\n",
       "      <th>likes</th>\n",
       "    </tr>\n",
       "  </thead>\n",
       "  <tbody>\n",
       "    <tr>\n",
       "      <th>0</th>\n",
       "      <td>145</td>\n",
       "      <td>48</td>\n",
       "    </tr>\n",
       "    <tr>\n",
       "      <th>1</th>\n",
       "      <td>127</td>\n",
       "      <td>43</td>\n",
       "    </tr>\n",
       "    <tr>\n",
       "      <th>2</th>\n",
       "      <td>182</td>\n",
       "      <td>43</td>\n",
       "    </tr>\n",
       "    <tr>\n",
       "      <th>3</th>\n",
       "      <td>123</td>\n",
       "      <td>42</td>\n",
       "    </tr>\n",
       "    <tr>\n",
       "      <th>4</th>\n",
       "      <td>61</td>\n",
       "      <td>41</td>\n",
       "    </tr>\n",
       "  </tbody>\n",
       "</table>\n",
       "</div>"
      ],
      "text/plain": [
       "   photo_id  likes\n",
       "0       145     48\n",
       "1       127     43\n",
       "2       182     43\n",
       "3       123     42\n",
       "4        61     41"
      ]
     },
     "execution_count": 12,
     "metadata": {},
     "output_type": "execute_result"
    }
   ],
   "source": [
    "most_liked_photos"
   ]
  },
  {
   "cell_type": "code",
   "execution_count": 13,
   "id": "f264af8d",
   "metadata": {},
   "outputs": [
    {
     "data": {
      "text/plain": [
       "<AxesSubplot:xlabel='photo_id', ylabel='likes'>"
      ]
     },
     "execution_count": 13,
     "metadata": {},
     "output_type": "execute_result"
    },
    {
     "data": {
      "image/png": "[encoded data removed]",
      "text/plain": [
       "<Figure size 432x288 with 1 Axes>"
      ]
     },
     "metadata": {
      "needs_background": "light"
     },
     "output_type": "display_data"
    }
   ],
   "source": [
    "# barplot for the most liked photos\n",
    "sns.barplot(x='photo_id', y='likes', data=most_liked_photos)"
   ]
  },
  {
   "cell_type": "markdown",
   "id": "88c6dcd0",
   "metadata": {},
   "source": [
    "The result of the query gives the top five most liked photos on Instagram. We can see from the **dataframe** and **barplot** that the photo with id **145** has the most likes. Now, we find the user who has uploaded that photo. For this, we get the details of the photo from the **photos** table."
   ]
  },
  {
   "cell_type": "code",
   "execution_count": 14,
   "id": "1e4a912c",
   "metadata": {},
   "outputs": [],
   "source": [
    "# query for the details of the photo\n",
    "photo_details = \"\"\" select * from photos\n",
    "where id = (select photo_id from (select photo_id, count(*) as total\n",
    "from likes group by photo_id order by total desc limit 1) sub);\"\"\""
   ]
  },
  {
   "cell_type": "code",
   "execution_count": 15,
   "id": "ce103952",
   "metadata": {},
   "outputs": [
    {
     "name": "stdout",
     "output_type": "stream",
     "text": [
      "(145, 'https://jarret.name', 52, datetime.datetime(2023, 5, 15, 17, 39, 30))\n"
     ]
    }
   ],
   "source": [
    "# result of the query\n",
    "results = execute_query(connection, photo_details)\n",
    "\n",
    "# details of the most liked photo \n",
    "for result in results:\n",
    "    print(result)"
   ]
  },
  {
   "cell_type": "markdown",
   "id": "a5ffc708",
   "metadata": {},
   "source": [
    "From the result we can see that the most liked photo was uploaded by user with **user_id 52**. Now we find the detials of the user with id 52."
   ]
  },
  {
   "cell_type": "code",
   "execution_count": 16,
   "id": "67d52f0f",
   "metadata": {},
   "outputs": [],
   "source": [
    "# query to find the user with the most likes\n",
    "user = \"\"\"select id, username from users \n",
    "where id = (select user_id from photos \n",
    "where id = (select photo_id from (select photo_id, count(*) as total \n",
    "from likes group by photo_id order by total desc limit 1) sub));\"\"\""
   ]
  },
  {
   "cell_type": "code",
   "execution_count": 17,
   "id": "50fa838d",
   "metadata": {},
   "outputs": [
    {
     "name": "stdout",
     "output_type": "stream",
     "text": [
      "(52, 'Zack_Kemmer93')\n"
     ]
    }
   ],
   "source": [
    "# result of the query\n",
    "results = execute_query(connection, user)\n",
    "\n",
    "# winner\n",
    "for result in results:\n",
    "    print(result)"
   ]
  },
  {
   "cell_type": "markdown",
   "id": "15a313fb",
   "metadata": {},
   "source": [
    "The user with id **52** having username **Zack_Kemmer93** is the winner of the contest. It seems the user has uploaded a really nice photo due to which he has received the most likes. By hosting similar contests and rewarding the users, the platform can expect more participations and different users can upload a variety of photos, which can further increase the user activity and improve the contents that can be found on the application. "
   ]
  },
  {
   "cell_type": "markdown",
   "id": "211059ee",
   "metadata": {},
   "source": [
    "#### 4. Hashtag Researching\n",
    "The team wants to know about the most used Hashtags, i.e., **top five hashtags** on the photos uploaded on Instagram. With this, they can gather information and make analysis of the different contents that can be found on their platform."
   ]
  },
  {
   "cell_type": "code",
   "execution_count": 18,
   "id": "40abd3b8",
   "metadata": {},
   "outputs": [],
   "source": [
    "# tags with the most count\n",
    "tag_count = \"\"\"select tag_id, count(*) as total from photo_tags group by tag_id order by total desc;\"\"\""
   ]
  },
  {
   "cell_type": "code",
   "execution_count": 19,
   "id": "3f65d173",
   "metadata": {},
   "outputs": [],
   "source": [
    "# result of the query\n",
    "results = execute_query(connection, tag_count)\n",
    "\n",
    "# empty list for storing the result\n",
    "query_results = []\n",
    "# storing the results\n",
    "for result in results:\n",
    "    result = list(result)\n",
    "    query_results.append(result)\n",
    "\n",
    "# columns for the dataframe\n",
    "columns = ['tag_id', 'count']\n",
    "\n",
    "# dataframe containing the results\n",
    "tag_ids = pd.DataFrame(query_results, columns = columns)"
   ]
  },
  {
   "cell_type": "code",
   "execution_count": 20,
   "id": "32b6762c",
   "metadata": {},
   "outputs": [
    {
     "data": {
      "text/html": [
       "<div>\n",
       "<style scoped>\n",
       "    .dataframe tbody tr th:only-of-type {\n",
       "        vertical-align: middle;\n",
       "    }\n",
       "\n",
       "    .dataframe tbody tr th {\n",
       "        vertical-align: top;\n",
       "    }\n",
       "\n",
       "    .dataframe thead th {\n",
       "        text-align: right;\n",
       "    }\n",
       "</style>\n",
       "<table border=\"1\" class=\"dataframe\">\n",
       "  <thead>\n",
       "    <tr style=\"text-align: right;\">\n",
       "      <th></th>\n",
       "      <th>tag_id</th>\n",
       "      <th>count</th>\n",
       "    </tr>\n",
       "  </thead>\n",
       "  <tbody>\n",
       "    <tr>\n",
       "      <th>0</th>\n",
       "      <td>21</td>\n",
       "      <td>59</td>\n",
       "    </tr>\n",
       "    <tr>\n",
       "      <th>1</th>\n",
       "      <td>20</td>\n",
       "      <td>42</td>\n",
       "    </tr>\n",
       "    <tr>\n",
       "      <th>2</th>\n",
       "      <td>17</td>\n",
       "      <td>39</td>\n",
       "    </tr>\n",
       "    <tr>\n",
       "      <th>3</th>\n",
       "      <td>13</td>\n",
       "      <td>38</td>\n",
       "    </tr>\n",
       "    <tr>\n",
       "      <th>4</th>\n",
       "      <td>5</td>\n",
       "      <td>24</td>\n",
       "    </tr>\n",
       "  </tbody>\n",
       "</table>\n",
       "</div>"
      ],
      "text/plain": [
       "   tag_id  count\n",
       "0      21     59\n",
       "1      20     42\n",
       "2      17     39\n",
       "3      13     38\n",
       "4       5     24"
      ]
     },
     "execution_count": 20,
     "metadata": {},
     "output_type": "execute_result"
    }
   ],
   "source": [
    "# displaying the first 5 results\n",
    "tag_ids.head()"
   ]
  },
  {
   "cell_type": "code",
   "execution_count": 21,
   "id": "a7352720",
   "metadata": {},
   "outputs": [
    {
     "data": {
      "text/plain": [
       "<AxesSubplot:xlabel='tag_id', ylabel='count'>"
      ]
     },
     "execution_count": 21,
     "metadata": {},
     "output_type": "execute_result"
    },
    {
     "data": {
      "image/png": "[encoded data removed]",
      "text/plain": [
       "<Figure size 432x288 with 1 Axes>"
      ]
     },
     "metadata": {
      "needs_background": "light"
     },
     "output_type": "display_data"
    }
   ],
   "source": [
    "# barplot for most used tags\n",
    "sns.barplot(x='tag_id', y='count', data=tag_ids)"
   ]
  },
  {
   "cell_type": "markdown",
   "id": "4e6cc371",
   "metadata": {},
   "source": [
    "The barplot shows the count of each tag_id. From the barplot we can conclude that id **21** has the most number of count, i.e., it has been used the most number of times."
   ]
  },
  {
   "cell_type": "code",
   "execution_count": 22,
   "id": "9d346037",
   "metadata": {},
   "outputs": [],
   "source": [
    "# query for the top 5 hashtags used\n",
    "hashtags = \"\"\"select tag_name from tags where id in (select tag_id from (select tag_id, count(*) as total \n",
    "from photo_tags group by tag_id order by total desc limit 5) sub);\"\"\""
   ]
  },
  {
   "cell_type": "code",
   "execution_count": 23,
   "id": "88afb63c",
   "metadata": {},
   "outputs": [],
   "source": [
    "# result of the query\n",
    "results = execute_query(connection, hashtags)\n",
    "\n",
    "# empty list for storing the result\n",
    "query_results = []\n",
    "# storing the results\n",
    "for result in results:\n",
    "    result = list(result)\n",
    "    query_results.append(result)\n",
    "\n",
    "# columns for the dataframe\n",
    "columns = ['Tag_Name']\n",
    "\n",
    "# dataframe containing the results\n",
    "most_used_hashtags = pd.DataFrame(query_results, columns = columns)"
   ]
  },
  {
   "cell_type": "code",
   "execution_count": 24,
   "id": "f0016a22",
   "metadata": {},
   "outputs": [
    {
     "data": {
      "text/html": [
       "<div>\n",
       "<style scoped>\n",
       "    .dataframe tbody tr th:only-of-type {\n",
       "        vertical-align: middle;\n",
       "    }\n",
       "\n",
       "    .dataframe tbody tr th {\n",
       "        vertical-align: top;\n",
       "    }\n",
       "\n",
       "    .dataframe thead th {\n",
       "        text-align: right;\n",
       "    }\n",
       "</style>\n",
       "<table border=\"1\" class=\"dataframe\">\n",
       "  <thead>\n",
       "    <tr style=\"text-align: right;\">\n",
       "      <th></th>\n",
       "      <th>Tag_Name</th>\n",
       "    </tr>\n",
       "  </thead>\n",
       "  <tbody>\n",
       "    <tr>\n",
       "      <th>0</th>\n",
       "      <td>smile</td>\n",
       "    </tr>\n",
       "    <tr>\n",
       "      <th>1</th>\n",
       "      <td>beach</td>\n",
       "    </tr>\n",
       "    <tr>\n",
       "      <th>2</th>\n",
       "      <td>party</td>\n",
       "    </tr>\n",
       "    <tr>\n",
       "      <th>3</th>\n",
       "      <td>fun</td>\n",
       "    </tr>\n",
       "    <tr>\n",
       "      <th>4</th>\n",
       "      <td>concert</td>\n",
       "    </tr>\n",
       "  </tbody>\n",
       "</table>\n",
       "</div>"
      ],
      "text/plain": [
       "  Tag_Name\n",
       "0    smile\n",
       "1    beach\n",
       "2    party\n",
       "3      fun\n",
       "4  concert"
      ]
     },
     "execution_count": 24,
     "metadata": {},
     "output_type": "execute_result"
    }
   ],
   "source": [
    "most_used_hashtags"
   ]
  },
  {
   "cell_type": "markdown",
   "id": "68efe5f1",
   "metadata": {},
   "source": [
    "We get the top five most used hashtags. The tags include **smile**, **beach**, **party**, **fun**, and **concert**. We can make an analysis on the kind of photos uploaded on Instagram based on these tags. It won't be wrong to assume that most photos uploaded are related to **beach parties** and **beach concerts**."
   ]
  },
  {
   "cell_type": "markdown",
   "id": "bf4e0fa2",
   "metadata": {},
   "source": [
    "#### 5. Launch Ad Campaign \n",
    "The product team wants to know about the day of the week which would be best for launching ads. For this, we find the days on which most of the users have registered. To find the day of the week based on the date, we use the SQL's in-built function **WEEKDAY()**, which gives the day of the week by passing the **DATETIME** column or values. \n",
    "The function returns values from **0** to **6**. \n",
    "- **0 - Monday**\n",
    "- **1 - Tuesday**\n",
    "- **2 - Wednesday**\n",
    "- **3 - Thursday**\n",
    "- **4 - Friday**\n",
    "- **5 - Saturday**, and\n",
    "- **6 - Sunday**"
   ]
  },
  {
   "cell_type": "code",
   "execution_count": 25,
   "id": "eb847500",
   "metadata": {},
   "outputs": [],
   "source": [
    "# query for finding the day count\n",
    "day_count = \"\"\"select weekday(created_at) as week, count(*) as total from users group by week;\"\"\""
   ]
  },
  {
   "cell_type": "code",
   "execution_count": 26,
   "id": "d81934d1",
   "metadata": {},
   "outputs": [],
   "source": [
    "# result of the query\n",
    "results = execute_query(connection, day_count)\n",
    "\n",
    "# empty list for storing the result\n",
    "query_results = []\n",
    "# storing the results\n",
    "for result in results:\n",
    "    result = list(result)\n",
    "    query_results.append(result)\n",
    "\n",
    "# columns for the dataframe\n",
    "columns = ['week', 'count']\n",
    "\n",
    "# dataframe containing the results\n",
    "day_counts = pd.DataFrame(query_results, columns = columns)"
   ]
  },
  {
   "cell_type": "code",
   "execution_count": 27,
   "id": "7fae3aba",
   "metadata": {},
   "outputs": [
    {
     "data": {
      "text/html": [
       "<div>\n",
       "<style scoped>\n",
       "    .dataframe tbody tr th:only-of-type {\n",
       "        vertical-align: middle;\n",
       "    }\n",
       "\n",
       "    .dataframe tbody tr th {\n",
       "        vertical-align: top;\n",
       "    }\n",
       "\n",
       "    .dataframe thead th {\n",
       "        text-align: right;\n",
       "    }\n",
       "</style>\n",
       "<table border=\"1\" class=\"dataframe\">\n",
       "  <thead>\n",
       "    <tr style=\"text-align: right;\">\n",
       "      <th></th>\n",
       "      <th>week</th>\n",
       "      <th>count</th>\n",
       "    </tr>\n",
       "  </thead>\n",
       "  <tbody>\n",
       "    <tr>\n",
       "      <th>0</th>\n",
       "      <td>3</td>\n",
       "      <td>16</td>\n",
       "    </tr>\n",
       "    <tr>\n",
       "      <th>1</th>\n",
       "      <td>6</td>\n",
       "      <td>16</td>\n",
       "    </tr>\n",
       "    <tr>\n",
       "      <th>2</th>\n",
       "      <td>1</td>\n",
       "      <td>14</td>\n",
       "    </tr>\n",
       "    <tr>\n",
       "      <th>3</th>\n",
       "      <td>5</td>\n",
       "      <td>12</td>\n",
       "    </tr>\n",
       "    <tr>\n",
       "      <th>4</th>\n",
       "      <td>2</td>\n",
       "      <td>13</td>\n",
       "    </tr>\n",
       "    <tr>\n",
       "      <th>5</th>\n",
       "      <td>0</td>\n",
       "      <td>14</td>\n",
       "    </tr>\n",
       "    <tr>\n",
       "      <th>6</th>\n",
       "      <td>4</td>\n",
       "      <td>15</td>\n",
       "    </tr>\n",
       "  </tbody>\n",
       "</table>\n",
       "</div>"
      ],
      "text/plain": [
       "   week  count\n",
       "0     3     16\n",
       "1     6     16\n",
       "2     1     14\n",
       "3     5     12\n",
       "4     2     13\n",
       "5     0     14\n",
       "6     4     15"
      ]
     },
     "execution_count": 27,
     "metadata": {},
     "output_type": "execute_result"
    }
   ],
   "source": [
    "day_counts"
   ]
  },
  {
   "cell_type": "code",
   "execution_count": 28,
   "id": "ccaa616b",
   "metadata": {},
   "outputs": [
    {
     "data": {
      "text/plain": [
       "<AxesSubplot:xlabel='week', ylabel='count'>"
      ]
     },
     "execution_count": 28,
     "metadata": {},
     "output_type": "execute_result"
    },
    {
     "data": {
      "image/png": "[encoded data removed]",
      "text/plain": [
       "<Figure size 432x288 with 1 Axes>"
      ]
     },
     "metadata": {
      "needs_background": "light"
     },
     "output_type": "display_data"
    }
   ],
   "source": [
    "# barplot for count of days of the week\n",
    "sns.barplot(x='week', y='count', data=day_counts)"
   ]
  },
  {
   "cell_type": "markdown",
   "id": "ce071c55",
   "metadata": {},
   "source": [
    "From the dataframe and the barplot we can see that the days **3** and **6** are the days when most of the users have registered on Instagram. The days corresponding to 3 and 6 are **Thursday** and **Sunday**, i.e., most of the users have registered on Thursday and Sunday. The number of users who have registered on **Friday** is also comparable to Thursday and Friday. The Marketing team can schedule an ad campaign on these days to get user attraction and improve the success rate and overall experience of the applocation."
   ]
  },
  {
   "cell_type": "markdown",
   "id": "55385dec",
   "metadata": {},
   "source": [
    "### Investor Metrics\n",
    "The Investors wants help with the following:\n",
    "- Know about **User Engagement** - about how many times an average user posts on Instagram and the total number of photos on Instagram/total number of users\n",
    "- Know about **Bots and Fake accounts** - details of those users who have liked every single photo on the site."
   ]
  },
  {
   "cell_type": "markdown",
   "id": "4692938b",
   "metadata": {},
   "source": [
    "#### 1. User Engagement\n",
    "- To calculate how many times an average user posts on Instagram, we first find the number of photos uploaded by each user. The results are stored in a Dataframe, and the '**mean()**' function is applied on the '**count**' column to get the mean. \n",
    "- The total number of photos on Instagram can be found by counting the **unique photo id** from the **photos** table, and the total number of users can be found by counting the **unique user id** from the **users** table. The total number of photos on Instagram/total number of users can be calculated by simply dividing these values."
   ]
  },
  {
   "cell_type": "code",
   "execution_count": 29,
   "id": "e7a64221",
   "metadata": {},
   "outputs": [],
   "source": [
    "# query to find the number of photos uploadedby each user\n",
    "upload = \"\"\"select user_id, count(*) as total_number_of_pics from photos group by user_id;\"\"\""
   ]
  },
  {
   "cell_type": "code",
   "execution_count": 30,
   "id": "ff35355a",
   "metadata": {},
   "outputs": [],
   "source": [
    "# result of the query\n",
    "results = execute_query(connection, upload)\n",
    "\n",
    "# empty list for storing the result\n",
    "query_results = []\n",
    "# storing the results\n",
    "for result in results:\n",
    "    result = list(result)\n",
    "    query_results.append(result)\n",
    "\n",
    "# columns for the dataframe\n",
    "columns = ['user_id', 'photos_uploaded']\n",
    "\n",
    "# dataframe containing the results\n",
    "photo_number = pd.DataFrame(query_results, columns = columns)"
   ]
  },
  {
   "cell_type": "code",
   "execution_count": 31,
   "id": "11ecfd21",
   "metadata": {},
   "outputs": [
    {
     "data": {
      "text/html": [
       "<div>\n",
       "<style scoped>\n",
       "    .dataframe tbody tr th:only-of-type {\n",
       "        vertical-align: middle;\n",
       "    }\n",
       "\n",
       "    .dataframe tbody tr th {\n",
       "        vertical-align: top;\n",
       "    }\n",
       "\n",
       "    .dataframe thead th {\n",
       "        text-align: right;\n",
       "    }\n",
       "</style>\n",
       "<table border=\"1\" class=\"dataframe\">\n",
       "  <thead>\n",
       "    <tr style=\"text-align: right;\">\n",
       "      <th></th>\n",
       "      <th>user_id</th>\n",
       "      <th>photos_uploaded</th>\n",
       "    </tr>\n",
       "  </thead>\n",
       "  <tbody>\n",
       "    <tr>\n",
       "      <th>0</th>\n",
       "      <td>1</td>\n",
       "      <td>5</td>\n",
       "    </tr>\n",
       "    <tr>\n",
       "      <th>1</th>\n",
       "      <td>2</td>\n",
       "      <td>4</td>\n",
       "    </tr>\n",
       "    <tr>\n",
       "      <th>2</th>\n",
       "      <td>3</td>\n",
       "      <td>4</td>\n",
       "    </tr>\n",
       "    <tr>\n",
       "      <th>3</th>\n",
       "      <td>4</td>\n",
       "      <td>3</td>\n",
       "    </tr>\n",
       "    <tr>\n",
       "      <th>4</th>\n",
       "      <td>6</td>\n",
       "      <td>5</td>\n",
       "    </tr>\n",
       "    <tr>\n",
       "      <th>5</th>\n",
       "      <td>8</td>\n",
       "      <td>4</td>\n",
       "    </tr>\n",
       "    <tr>\n",
       "      <th>6</th>\n",
       "      <td>9</td>\n",
       "      <td>4</td>\n",
       "    </tr>\n",
       "    <tr>\n",
       "      <th>7</th>\n",
       "      <td>10</td>\n",
       "      <td>3</td>\n",
       "    </tr>\n",
       "    <tr>\n",
       "      <th>8</th>\n",
       "      <td>11</td>\n",
       "      <td>5</td>\n",
       "    </tr>\n",
       "    <tr>\n",
       "      <th>9</th>\n",
       "      <td>12</td>\n",
       "      <td>4</td>\n",
       "    </tr>\n",
       "    <tr>\n",
       "      <th>10</th>\n",
       "      <td>13</td>\n",
       "      <td>5</td>\n",
       "    </tr>\n",
       "    <tr>\n",
       "      <th>11</th>\n",
       "      <td>15</td>\n",
       "      <td>4</td>\n",
       "    </tr>\n",
       "    <tr>\n",
       "      <th>12</th>\n",
       "      <td>16</td>\n",
       "      <td>4</td>\n",
       "    </tr>\n",
       "    <tr>\n",
       "      <th>13</th>\n",
       "      <td>17</td>\n",
       "      <td>3</td>\n",
       "    </tr>\n",
       "    <tr>\n",
       "      <th>14</th>\n",
       "      <td>18</td>\n",
       "      <td>1</td>\n",
       "    </tr>\n",
       "    <tr>\n",
       "      <th>15</th>\n",
       "      <td>19</td>\n",
       "      <td>2</td>\n",
       "    </tr>\n",
       "    <tr>\n",
       "      <th>16</th>\n",
       "      <td>20</td>\n",
       "      <td>1</td>\n",
       "    </tr>\n",
       "    <tr>\n",
       "      <th>17</th>\n",
       "      <td>22</td>\n",
       "      <td>1</td>\n",
       "    </tr>\n",
       "    <tr>\n",
       "      <th>18</th>\n",
       "      <td>23</td>\n",
       "      <td>12</td>\n",
       "    </tr>\n",
       "    <tr>\n",
       "      <th>19</th>\n",
       "      <td>26</td>\n",
       "      <td>5</td>\n",
       "    </tr>\n",
       "  </tbody>\n",
       "</table>\n",
       "</div>"
      ],
      "text/plain": [
       "    user_id  photos_uploaded\n",
       "0         1                5\n",
       "1         2                4\n",
       "2         3                4\n",
       "3         4                3\n",
       "4         6                5\n",
       "5         8                4\n",
       "6         9                4\n",
       "7        10                3\n",
       "8        11                5\n",
       "9        12                4\n",
       "10       13                5\n",
       "11       15                4\n",
       "12       16                4\n",
       "13       17                3\n",
       "14       18                1\n",
       "15       19                2\n",
       "16       20                1\n",
       "17       22                1\n",
       "18       23               12\n",
       "19       26                5"
      ]
     },
     "execution_count": 31,
     "metadata": {},
     "output_type": "execute_result"
    }
   ],
   "source": [
    "# displaying the first 20 results\n",
    "photo_number.head(20)"
   ]
  },
  {
   "cell_type": "code",
   "execution_count": 32,
   "id": "cd117af7",
   "metadata": {},
   "outputs": [
    {
     "name": "stdout",
     "output_type": "stream",
     "text": [
      "Mean:  3.47\n"
     ]
    }
   ],
   "source": [
    "# average number of times\n",
    "mean_value = photo_number['photos_uploaded'].mean()\n",
    "mean = round(mean_value, 2)\n",
    "print(\"Mean: \", mean)"
   ]
  },
  {
   "cell_type": "markdown",
   "id": "9dd794a2",
   "metadata": {},
   "source": [
    "We can see that an average user posts 3.47 times. "
   ]
  },
  {
   "cell_type": "code",
   "execution_count": 33,
   "id": "204ec211",
   "metadata": {},
   "outputs": [],
   "source": [
    "# query to get the total count of photos\n",
    "total_photos = \"\"\"select count(id) as total from photos;\"\"\"\n",
    "total_users = \"\"\"select count(id) as total from users;\"\"\""
   ]
  },
  {
   "cell_type": "code",
   "execution_count": 34,
   "id": "a20d00e0",
   "metadata": {},
   "outputs": [],
   "source": [
    "# result for the queries\n",
    "result1 = execute_query(connection, total_photos)\n",
    "result2 = execute_query(connection, total_users)"
   ]
  },
  {
   "cell_type": "code",
   "execution_count": 35,
   "id": "10d08251",
   "metadata": {},
   "outputs": [],
   "source": [
    "for res1 in result1:\n",
    "    tot_photos = res1[0] # total number of photos\n",
    "\n",
    "for res2 in result2:\n",
    "    tot_users = res2[0] # total number of users"
   ]
  },
  {
   "cell_type": "code",
   "execution_count": 36,
   "id": "89f3f5c0",
   "metadata": {},
   "outputs": [
    {
     "name": "stdout",
     "output_type": "stream",
     "text": [
      "Total number of photos on Instagram/total number of users = 2.57\n"
     ]
    }
   ],
   "source": [
    "# total number of photos on Instagram/total number of users\n",
    "average = tot_photos/tot_users\n",
    "print(f\"Total number of photos on Instagram/total number of users = {average}\")"
   ]
  },
  {
   "cell_type": "markdown",
   "id": "141cfd90",
   "metadata": {},
   "source": [
    "We can see that the average user posts about 3.47 times and the ratio of total number of photos to the total number of users is 2.57. The average and the ratio is less when compared to the time the users have spent on Instagram. The main reason for the ratio to be low is due to the inactive users which are nearly one-fourth of the total users."
   ]
  },
  {
   "cell_type": "markdown",
   "id": "02632a72",
   "metadata": {},
   "source": [
    "#### 2. Bots and Fake Accounts \n",
    "The Investors want to know about the **bots** and **fake accounts** that are there on Instagram. **Bots** are basically those accounts who have **liked every photo** on the application, as it is impossible for a normal user to like every photo present. We know that the total number of photos uploaded on Instagram is **257**. So from the **likes** table, which gives information about the photos liked by a particular user, we can count the number of photos liked by a user. And, if the number of photos liked by a user is equal to the total number of photos we can declare that user as a bot.<br>\n",
    "First we find those users who have liked every photo, i.e., all the **257** photos uploaded on Instagram, from the **likes** table, then we display the details of the users from the **users** table."
   ]
  },
  {
   "cell_type": "code",
   "execution_count": 37,
   "id": "da8aae3d",
   "metadata": {},
   "outputs": [],
   "source": [
    "# query to display those users who have liked all the 257 photos \n",
    "bots = \"\"\"select user_id from (select user_id, count(*) as total from likes group by user_id) sub where total = 257;\"\"\""
   ]
  },
  {
   "cell_type": "code",
   "execution_count": 38,
   "id": "f4cd0d26",
   "metadata": {},
   "outputs": [],
   "source": [
    "# result of the query\n",
    "results = execute_query(connection, bots)\n",
    "\n",
    "# empty list for storing the result\n",
    "query_results = []\n",
    "# storing the results\n",
    "for result in results:\n",
    "    result = list(result)\n",
    "    query_results.append(result)\n",
    "\n",
    "# columns for the dataframe\n",
    "columns = ['user_id']\n",
    "\n",
    "# dataframe containing the results\n",
    "bots = pd.DataFrame(query_results, columns = columns)"
   ]
  },
  {
   "cell_type": "code",
   "execution_count": 39,
   "id": "a6647419",
   "metadata": {},
   "outputs": [
    {
     "data": {
      "text/html": [
       "<div>\n",
       "<style scoped>\n",
       "    .dataframe tbody tr th:only-of-type {\n",
       "        vertical-align: middle;\n",
       "    }\n",
       "\n",
       "    .dataframe tbody tr th {\n",
       "        vertical-align: top;\n",
       "    }\n",
       "\n",
       "    .dataframe thead th {\n",
       "        text-align: right;\n",
       "    }\n",
       "</style>\n",
       "<table border=\"1\" class=\"dataframe\">\n",
       "  <thead>\n",
       "    <tr style=\"text-align: right;\">\n",
       "      <th></th>\n",
       "      <th>user_id</th>\n",
       "    </tr>\n",
       "  </thead>\n",
       "  <tbody>\n",
       "    <tr>\n",
       "      <th>0</th>\n",
       "      <td>5</td>\n",
       "    </tr>\n",
       "    <tr>\n",
       "      <th>1</th>\n",
       "      <td>14</td>\n",
       "    </tr>\n",
       "    <tr>\n",
       "      <th>2</th>\n",
       "      <td>21</td>\n",
       "    </tr>\n",
       "    <tr>\n",
       "      <th>3</th>\n",
       "      <td>24</td>\n",
       "    </tr>\n",
       "    <tr>\n",
       "      <th>4</th>\n",
       "      <td>36</td>\n",
       "    </tr>\n",
       "    <tr>\n",
       "      <th>5</th>\n",
       "      <td>41</td>\n",
       "    </tr>\n",
       "    <tr>\n",
       "      <th>6</th>\n",
       "      <td>54</td>\n",
       "    </tr>\n",
       "    <tr>\n",
       "      <th>7</th>\n",
       "      <td>57</td>\n",
       "    </tr>\n",
       "    <tr>\n",
       "      <th>8</th>\n",
       "      <td>66</td>\n",
       "    </tr>\n",
       "    <tr>\n",
       "      <th>9</th>\n",
       "      <td>71</td>\n",
       "    </tr>\n",
       "    <tr>\n",
       "      <th>10</th>\n",
       "      <td>75</td>\n",
       "    </tr>\n",
       "    <tr>\n",
       "      <th>11</th>\n",
       "      <td>76</td>\n",
       "    </tr>\n",
       "    <tr>\n",
       "      <th>12</th>\n",
       "      <td>91</td>\n",
       "    </tr>\n",
       "  </tbody>\n",
       "</table>\n",
       "</div>"
      ],
      "text/plain": [
       "    user_id\n",
       "0         5\n",
       "1        14\n",
       "2        21\n",
       "3        24\n",
       "4        36\n",
       "5        41\n",
       "6        54\n",
       "7        57\n",
       "8        66\n",
       "9        71\n",
       "10       75\n",
       "11       76\n",
       "12       91"
      ]
     },
     "execution_count": 39,
     "metadata": {},
     "output_type": "execute_result"
    }
   ],
   "source": [
    "bots"
   ]
  },
  {
   "cell_type": "code",
   "execution_count": 40,
   "id": "d4d248d9",
   "metadata": {},
   "outputs": [],
   "source": [
    "# displaying the details of the bots\n",
    "bot_details = \"\"\"select id, username from users\n",
    "where id in\n",
    "(select user_id from (select user_id, count(*) as total from likes group by user_id) sub where total = 257);\"\"\""
   ]
  },
  {
   "cell_type": "code",
   "execution_count": 41,
   "id": "ecf9efa0",
   "metadata": {},
   "outputs": [],
   "source": [
    "# result of the query\n",
    "results = execute_query(connection, bot_details)\n",
    "\n",
    "# empty list for storing the result\n",
    "query_results = []\n",
    "# storing the results\n",
    "for result in results:\n",
    "    result = list(result)\n",
    "    query_results.append(result)\n",
    "\n",
    "# columns for the dataframe\n",
    "columns = ['id', 'username']\n",
    "\n",
    "# dataframe containing the results\n",
    "bot_details = pd.DataFrame(query_results, columns = columns)"
   ]
  },
  {
   "cell_type": "code",
   "execution_count": 42,
   "id": "1021aa7e",
   "metadata": {},
   "outputs": [
    {
     "data": {
      "text/html": [
       "<div>\n",
       "<style scoped>\n",
       "    .dataframe tbody tr th:only-of-type {\n",
       "        vertical-align: middle;\n",
       "    }\n",
       "\n",
       "    .dataframe tbody tr th {\n",
       "        vertical-align: top;\n",
       "    }\n",
       "\n",
       "    .dataframe thead th {\n",
       "        text-align: right;\n",
       "    }\n",
       "</style>\n",
       "<table border=\"1\" class=\"dataframe\">\n",
       "  <thead>\n",
       "    <tr style=\"text-align: right;\">\n",
       "      <th></th>\n",
       "      <th>id</th>\n",
       "      <th>username</th>\n",
       "    </tr>\n",
       "  </thead>\n",
       "  <tbody>\n",
       "    <tr>\n",
       "      <th>0</th>\n",
       "      <td>5</td>\n",
       "      <td>Aniya_Hackett</td>\n",
       "    </tr>\n",
       "    <tr>\n",
       "      <th>1</th>\n",
       "      <td>14</td>\n",
       "      <td>Jaclyn81</td>\n",
       "    </tr>\n",
       "    <tr>\n",
       "      <th>2</th>\n",
       "      <td>21</td>\n",
       "      <td>Rocio33</td>\n",
       "    </tr>\n",
       "    <tr>\n",
       "      <th>3</th>\n",
       "      <td>24</td>\n",
       "      <td>Maxwell.Halvorson</td>\n",
       "    </tr>\n",
       "    <tr>\n",
       "      <th>4</th>\n",
       "      <td>36</td>\n",
       "      <td>Ollie_Ledner37</td>\n",
       "    </tr>\n",
       "    <tr>\n",
       "      <th>5</th>\n",
       "      <td>41</td>\n",
       "      <td>Mckenna17</td>\n",
       "    </tr>\n",
       "    <tr>\n",
       "      <th>6</th>\n",
       "      <td>54</td>\n",
       "      <td>Duane60</td>\n",
       "    </tr>\n",
       "    <tr>\n",
       "      <th>7</th>\n",
       "      <td>57</td>\n",
       "      <td>Julien_Schmidt</td>\n",
       "    </tr>\n",
       "    <tr>\n",
       "      <th>8</th>\n",
       "      <td>66</td>\n",
       "      <td>Mike.Auer39</td>\n",
       "    </tr>\n",
       "    <tr>\n",
       "      <th>9</th>\n",
       "      <td>71</td>\n",
       "      <td>Nia_Haag</td>\n",
       "    </tr>\n",
       "    <tr>\n",
       "      <th>10</th>\n",
       "      <td>75</td>\n",
       "      <td>Leslie67</td>\n",
       "    </tr>\n",
       "    <tr>\n",
       "      <th>11</th>\n",
       "      <td>76</td>\n",
       "      <td>Janelle.Nikolaus81</td>\n",
       "    </tr>\n",
       "    <tr>\n",
       "      <th>12</th>\n",
       "      <td>91</td>\n",
       "      <td>Bethany20</td>\n",
       "    </tr>\n",
       "  </tbody>\n",
       "</table>\n",
       "</div>"
      ],
      "text/plain": [
       "    id            username\n",
       "0    5       Aniya_Hackett\n",
       "1   14            Jaclyn81\n",
       "2   21             Rocio33\n",
       "3   24   Maxwell.Halvorson\n",
       "4   36      Ollie_Ledner37\n",
       "5   41           Mckenna17\n",
       "6   54             Duane60\n",
       "7   57      Julien_Schmidt\n",
       "8   66         Mike.Auer39\n",
       "9   71            Nia_Haag\n",
       "10  75            Leslie67\n",
       "11  76  Janelle.Nikolaus81\n",
       "12  91           Bethany20"
      ]
     },
     "execution_count": 42,
     "metadata": {},
     "output_type": "execute_result"
    }
   ],
   "source": [
    "bot_details"
   ]
  },
  {
   "cell_type": "markdown",
   "id": "7a9b0ece",
   "metadata": {},
   "source": [
    "The result of the query gives the **id** and the **username** of the **bots**, users who have liked every photo on Instagram. We can see that the count of the bots is **13**, which is **13%** of the total users."
   ]
  },
  {
   "cell_type": "markdown",
   "id": "d7704b8b",
   "metadata": {},
   "source": [
    "### Results\n",
    "During the process of completing this project I was able to execute different SQL queries and find answers to different questions put forward by the **Product** team, and I hope that the answers are in correspondence with their requirements.\n",
    "- After running the different queries, I found that almost **one-fourth** (26 users) of the total users are **inactive** and **13%** of the total users are **bots**. This means that, almost **40%** (39 users) of the total users are not actively participating in **User Engagement**.\n",
    "- Less **User Activities** implies less attractive **investors**. \n",
    "- The product team should make sure that there is **increase** in the number of active users. This can be done by reminding them to upload photos and hosting contests on their platform.\n",
    "- If bots are liking all the photos, there will be photos that feature unnecessarily in users' feed. These photos might not be relevant to the user and the user might just scroll without engaging with them. This leads to less user engagement.\n",
    "<br><br>\n",
    "Overall the Product team should make sure there is high percentage of active users and try to decrease the number of bot accounts. This will lead to increase in **content** available and improve the user engagement. This will attract investors, improve the success rate of the application, and improve the experience altogether while helping the business grow."
   ]
  }
 ],
 "metadata": {
  "kernelspec": {
   "display_name": "Python 3 (ipykernel)",
   "language": "python",
   "name": "python3"
  },
  "language_info": {
   "codemirror_mode": {
    "name": "ipython",
    "version": 3
   },
   "file_extension": ".py",
   "mimetype": "text/x-python",
   "name": "python",
   "nbconvert_exporter": "python",
   "pygments_lexer": "ipython3",
   "version": "3.9.12"
  }
 },
 "nbformat": 4,
 "nbformat_minor": 5
}
